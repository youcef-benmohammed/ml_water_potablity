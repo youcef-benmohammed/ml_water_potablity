{
  "cells": [
    {
      "cell_type": "markdown",
      "metadata": {
        "id": "wmQU08Ac4aUh"
      },
      "source": [
        "# *Predicting Water Potability from Physico-Chemical Variables: An Exploratory Data Analysis and Machine Learning Approach*\n",
        "\n",
        "---\n",
        "\n",
        "\n",
        "\n",
        "---\n",
        "\n"
      ]
    },
    {
      "cell_type": "markdown",
      "metadata": {
        "id": "PuYubLx51yY8"
      },
      "source": [
        "## Problem\n",
        "This project aims to predict the potability of water based on physico-chemical variables. It involves data collection, preprocessing, and exploratory data analysis (EDA) to understand the data's characteristics. Subsequently, a machine learning model is built and evaluated using appropriate metrics. The ultimate goal is to provide a reliable method for determining whether water is safe to drink based on its chemical properties."
      ]
    },
    {
      "cell_type": "markdown",
      "metadata": {
        "id": "pOMq9t611prq"
      },
      "source": [
        "## Loading DATA-LIBRARIES"
      ]
    },
    {
      "cell_type": "code",
      "execution_count": null,
      "metadata": {
        "colab": {
          "background_save": true
        },
        "id": "yPkuZ6DKJ-Xd"
      },
      "outputs": [],
      "source": [
        "!pip install -U -q PyDrive\n",
        "from pydrive.auth import GoogleAuth\n",
        "from pydrive.drive import GoogleDrive\n",
        "from google.colab import auth\n",
        "from oauth2client.client import GoogleCredentials"
      ]
    },
    {
      "cell_type": "code",
      "execution_count": null,
      "metadata": {
        "colab": {
          "background_save": true
        },
        "id": "ryrg5U5DKR5h"
      },
      "outputs": [],
      "source": [
        "auth.authenticate_user()\n",
        "gauth = GoogleAuth()\n",
        "gauth.credentials = GoogleCredentials.get_application_default()\n",
        "drive = GoogleDrive(gauth)"
      ]
    },
    {
      "cell_type": "code",
      "execution_count": null,
      "metadata": {
        "colab": {
          "background_save": true
        },
        "id": "CSIdJldYKiir"
      },
      "outputs": [],
      "source": [
        "downloaded = drive.CreateFile({'id':'1j6iz1eqa1XHpvH-J4JrkqWgEWdQu-3n2'}) # replace the id with id of file you want to access\n",
        "downloaded.GetContentFile('water_porability.csv')"
      ]
    },
    {
      "cell_type": "code",
      "execution_count": null,
      "metadata": {
        "colab": {
          "background_save": true
        },
        "id": "thq0HIRDWt7m"
      },
      "outputs": [],
      "source": [
        "import numpy as np\n",
        "import pandas as pd\n",
        "import matplotlib.pyplot as plt\n",
        "import seaborn as sns"
      ]
    },
    {
      "cell_type": "code",
      "execution_count": null,
      "metadata": {
        "colab": {
          "background_save": true
        },
        "id": "L7c5pJpYXJ6i"
      },
      "outputs": [],
      "source": [
        "pd.set_option('display.max_row', 111)\n",
        "pd.set_option('display.max_column', 111)"
      ]
    },
    {
      "cell_type": "code",
      "execution_count": null,
      "metadata": {
        "colab": {
          "background_save": true
        },
        "id": "6TX-zeBRW7GL",
        "outputId": "07c99b55-0db6-48bd-f13b-588fff6ffbea"
      },
      "outputs": [
        {
          "data": {
            "text/html": [
              "\n",
              "  <div id=\"df-477732ff-4064-421f-93f8-41ccd113c1ac\" class=\"colab-df-container\">\n",
              "    <div>\n",
              "<style scoped>\n",
              "    .dataframe tbody tr th:only-of-type {\n",
              "        vertical-align: middle;\n",
              "    }\n",
              "\n",
              "    .dataframe tbody tr th {\n",
              "        vertical-align: top;\n",
              "    }\n",
              "\n",
              "    .dataframe thead th {\n",
              "        text-align: right;\n",
              "    }\n",
              "</style>\n",
              "<table border=\"1\" class=\"dataframe\">\n",
              "  <thead>\n",
              "    <tr style=\"text-align: right;\">\n",
              "      <th></th>\n",
              "      <th>ph</th>\n",
              "      <th>Hardness</th>\n",
              "      <th>Solids</th>\n",
              "      <th>Chloramines</th>\n",
              "      <th>Sulfate</th>\n",
              "      <th>Conductivity</th>\n",
              "      <th>Organic_carbon</th>\n",
              "      <th>Trihalomethanes</th>\n",
              "      <th>Turbidity</th>\n",
              "      <th>Potability</th>\n",
              "    </tr>\n",
              "  </thead>\n",
              "  <tbody>\n",
              "    <tr>\n",
              "      <th>0</th>\n",
              "      <td>NaN</td>\n",
              "      <td>204.890455</td>\n",
              "      <td>20791.318981</td>\n",
              "      <td>7.300212</td>\n",
              "      <td>368.516441</td>\n",
              "      <td>564.308654</td>\n",
              "      <td>10.379783</td>\n",
              "      <td>86.990970</td>\n",
              "      <td>2.963135</td>\n",
              "      <td>0</td>\n",
              "    </tr>\n",
              "    <tr>\n",
              "      <th>1</th>\n",
              "      <td>3.716080</td>\n",
              "      <td>129.422921</td>\n",
              "      <td>18630.057858</td>\n",
              "      <td>6.635246</td>\n",
              "      <td>NaN</td>\n",
              "      <td>592.885359</td>\n",
              "      <td>15.180013</td>\n",
              "      <td>56.329076</td>\n",
              "      <td>4.500656</td>\n",
              "      <td>0</td>\n",
              "    </tr>\n",
              "    <tr>\n",
              "      <th>2</th>\n",
              "      <td>8.099124</td>\n",
              "      <td>224.236259</td>\n",
              "      <td>19909.541732</td>\n",
              "      <td>9.275884</td>\n",
              "      <td>NaN</td>\n",
              "      <td>418.606213</td>\n",
              "      <td>16.868637</td>\n",
              "      <td>66.420093</td>\n",
              "      <td>3.055934</td>\n",
              "      <td>0</td>\n",
              "    </tr>\n",
              "    <tr>\n",
              "      <th>3</th>\n",
              "      <td>8.316766</td>\n",
              "      <td>214.373394</td>\n",
              "      <td>22018.417441</td>\n",
              "      <td>8.059332</td>\n",
              "      <td>356.886136</td>\n",
              "      <td>363.266516</td>\n",
              "      <td>18.436524</td>\n",
              "      <td>100.341674</td>\n",
              "      <td>4.628771</td>\n",
              "      <td>0</td>\n",
              "    </tr>\n",
              "    <tr>\n",
              "      <th>4</th>\n",
              "      <td>9.092223</td>\n",
              "      <td>181.101509</td>\n",
              "      <td>17978.986339</td>\n",
              "      <td>6.546600</td>\n",
              "      <td>310.135738</td>\n",
              "      <td>398.410813</td>\n",
              "      <td>11.558279</td>\n",
              "      <td>31.997993</td>\n",
              "      <td>4.075075</td>\n",
              "      <td>0</td>\n",
              "    </tr>\n",
              "  </tbody>\n",
              "</table>\n",
              "</div>\n",
              "    <div class=\"colab-df-buttons\">\n",
              "\n",
              "  <div class=\"colab-df-container\">\n",
              "    <button class=\"colab-df-convert\" onclick=\"convertToInteractive('df-477732ff-4064-421f-93f8-41ccd113c1ac')\"\n",
              "            title=\"Convert this dataframe to an interactive table.\"\n",
              "            style=\"display:none;\">\n",
              "\n",
              "  <svg xmlns=\"http://www.w3.org/2000/svg\" height=\"24px\" viewBox=\"0 -960 960 960\">\n",
              "    <path d=\"M120-120v-720h720v720H120Zm60-500h600v-160H180v160Zm220 220h160v-160H400v160Zm0 220h160v-160H400v160ZM180-400h160v-160H180v160Zm440 0h160v-160H620v160ZM180-180h160v-160H180v160Zm440 0h160v-160H620v160Z\"/>\n",
              "  </svg>\n",
              "    </button>\n",
              "\n",
              "  <style>\n",
              "    .colab-df-container {\n",
              "      display:flex;\n",
              "      gap: 12px;\n",
              "    }\n",
              "\n",
              "    .colab-df-convert {\n",
              "      background-color: #E8F0FE;\n",
              "      border: none;\n",
              "      border-radius: 50%;\n",
              "      cursor: pointer;\n",
              "      display: none;\n",
              "      fill: #1967D2;\n",
              "      height: 32px;\n",
              "      padding: 0 0 0 0;\n",
              "      width: 32px;\n",
              "    }\n",
              "\n",
              "    .colab-df-convert:hover {\n",
              "      background-color: #E2EBFA;\n",
              "      box-shadow: 0px 1px 2px rgba(60, 64, 67, 0.3), 0px 1px 3px 1px rgba(60, 64, 67, 0.15);\n",
              "      fill: #174EA6;\n",
              "    }\n",
              "\n",
              "    .colab-df-buttons div {\n",
              "      margin-bottom: 4px;\n",
              "    }\n",
              "\n",
              "    [theme=dark] .colab-df-convert {\n",
              "      background-color: #3B4455;\n",
              "      fill: #D2E3FC;\n",
              "    }\n",
              "\n",
              "    [theme=dark] .colab-df-convert:hover {\n",
              "      background-color: #434B5C;\n",
              "      box-shadow: 0px 1px 3px 1px rgba(0, 0, 0, 0.15);\n",
              "      filter: drop-shadow(0px 1px 2px rgba(0, 0, 0, 0.3));\n",
              "      fill: #FFFFFF;\n",
              "    }\n",
              "  </style>\n",
              "\n",
              "    <script>\n",
              "      const buttonEl =\n",
              "        document.querySelector('#df-477732ff-4064-421f-93f8-41ccd113c1ac button.colab-df-convert');\n",
              "      buttonEl.style.display =\n",
              "        google.colab.kernel.accessAllowed ? 'block' : 'none';\n",
              "\n",
              "      async function convertToInteractive(key) {\n",
              "        const element = document.querySelector('#df-477732ff-4064-421f-93f8-41ccd113c1ac');\n",
              "        const dataTable =\n",
              "          await google.colab.kernel.invokeFunction('convertToInteractive',\n",
              "                                                    [key], {});\n",
              "        if (!dataTable) return;\n",
              "\n",
              "        const docLinkHtml = 'Like what you see? Visit the ' +\n",
              "          '<a target=\"_blank\" href=https://colab.research.google.com/notebooks/data_table.ipynb>data table notebook</a>'\n",
              "          + ' to learn more about interactive tables.';\n",
              "        element.innerHTML = '';\n",
              "        dataTable['output_type'] = 'display_data';\n",
              "        await google.colab.output.renderOutput(dataTable, element);\n",
              "        const docLink = document.createElement('div');\n",
              "        docLink.innerHTML = docLinkHtml;\n",
              "        element.appendChild(docLink);\n",
              "      }\n",
              "    </script>\n",
              "  </div>\n",
              "\n",
              "\n",
              "<div id=\"df-1290d52c-e0fa-401a-adee-1d5a5f1000ce\">\n",
              "  <button class=\"colab-df-quickchart\" onclick=\"quickchart('df-1290d52c-e0fa-401a-adee-1d5a5f1000ce')\"\n",
              "            title=\"Suggest charts.\"\n",
              "            style=\"display:none;\">\n",
              "\n",
              "<svg xmlns=\"http://www.w3.org/2000/svg\" height=\"24px\"viewBox=\"0 0 24 24\"\n",
              "     width=\"24px\">\n",
              "    <g>\n",
              "        <path d=\"M19 3H5c-1.1 0-2 .9-2 2v14c0 1.1.9 2 2 2h14c1.1 0 2-.9 2-2V5c0-1.1-.9-2-2-2zM9 17H7v-7h2v7zm4 0h-2V7h2v10zm4 0h-2v-4h2v4z\"/>\n",
              "    </g>\n",
              "</svg>\n",
              "  </button>\n",
              "\n",
              "<style>\n",
              "  .colab-df-quickchart {\n",
              "      --bg-color: #E8F0FE;\n",
              "      --fill-color: #1967D2;\n",
              "      --hover-bg-color: #E2EBFA;\n",
              "      --hover-fill-color: #174EA6;\n",
              "      --disabled-fill-color: #AAA;\n",
              "      --disabled-bg-color: #DDD;\n",
              "  }\n",
              "\n",
              "  [theme=dark] .colab-df-quickchart {\n",
              "      --bg-color: #3B4455;\n",
              "      --fill-color: #D2E3FC;\n",
              "      --hover-bg-color: #434B5C;\n",
              "      --hover-fill-color: #FFFFFF;\n",
              "      --disabled-bg-color: #3B4455;\n",
              "      --disabled-fill-color: #666;\n",
              "  }\n",
              "\n",
              "  .colab-df-quickchart {\n",
              "    background-color: var(--bg-color);\n",
              "    border: none;\n",
              "    border-radius: 50%;\n",
              "    cursor: pointer;\n",
              "    display: none;\n",
              "    fill: var(--fill-color);\n",
              "    height: 32px;\n",
              "    padding: 0;\n",
              "    width: 32px;\n",
              "  }\n",
              "\n",
              "  .colab-df-quickchart:hover {\n",
              "    background-color: var(--hover-bg-color);\n",
              "    box-shadow: 0 1px 2px rgba(60, 64, 67, 0.3), 0 1px 3px 1px rgba(60, 64, 67, 0.15);\n",
              "    fill: var(--button-hover-fill-color);\n",
              "  }\n",
              "\n",
              "  .colab-df-quickchart-complete:disabled,\n",
              "  .colab-df-quickchart-complete:disabled:hover {\n",
              "    background-color: var(--disabled-bg-color);\n",
              "    fill: var(--disabled-fill-color);\n",
              "    box-shadow: none;\n",
              "  }\n",
              "\n",
              "  .colab-df-spinner {\n",
              "    border: 2px solid var(--fill-color);\n",
              "    border-color: transparent;\n",
              "    border-bottom-color: var(--fill-color);\n",
              "    animation:\n",
              "      spin 1s steps(1) infinite;\n",
              "  }\n",
              "\n",
              "  @keyframes spin {\n",
              "    0% {\n",
              "      border-color: transparent;\n",
              "      border-bottom-color: var(--fill-color);\n",
              "      border-left-color: var(--fill-color);\n",
              "    }\n",
              "    20% {\n",
              "      border-color: transparent;\n",
              "      border-left-color: var(--fill-color);\n",
              "      border-top-color: var(--fill-color);\n",
              "    }\n",
              "    30% {\n",
              "      border-color: transparent;\n",
              "      border-left-color: var(--fill-color);\n",
              "      border-top-color: var(--fill-color);\n",
              "      border-right-color: var(--fill-color);\n",
              "    }\n",
              "    40% {\n",
              "      border-color: transparent;\n",
              "      border-right-color: var(--fill-color);\n",
              "      border-top-color: var(--fill-color);\n",
              "    }\n",
              "    60% {\n",
              "      border-color: transparent;\n",
              "      border-right-color: var(--fill-color);\n",
              "    }\n",
              "    80% {\n",
              "      border-color: transparent;\n",
              "      border-right-color: var(--fill-color);\n",
              "      border-bottom-color: var(--fill-color);\n",
              "    }\n",
              "    90% {\n",
              "      border-color: transparent;\n",
              "      border-bottom-color: var(--fill-color);\n",
              "    }\n",
              "  }\n",
              "</style>\n",
              "\n",
              "  <script>\n",
              "    async function quickchart(key) {\n",
              "      const quickchartButtonEl =\n",
              "        document.querySelector('#' + key + ' button');\n",
              "      quickchartButtonEl.disabled = true;  // To prevent multiple clicks.\n",
              "      quickchartButtonEl.classList.add('colab-df-spinner');\n",
              "      try {\n",
              "        const charts = await google.colab.kernel.invokeFunction(\n",
              "            'suggestCharts', [key], {});\n",
              "      } catch (error) {\n",
              "        console.error('Error during call to suggestCharts:', error);\n",
              "      }\n",
              "      quickchartButtonEl.classList.remove('colab-df-spinner');\n",
              "      quickchartButtonEl.classList.add('colab-df-quickchart-complete');\n",
              "    }\n",
              "    (() => {\n",
              "      let quickchartButtonEl =\n",
              "        document.querySelector('#df-1290d52c-e0fa-401a-adee-1d5a5f1000ce button');\n",
              "      quickchartButtonEl.style.display =\n",
              "        google.colab.kernel.accessAllowed ? 'block' : 'none';\n",
              "    })();\n",
              "  </script>\n",
              "</div>\n",
              "    </div>\n",
              "  </div>\n"
            ],
            "text/plain": [
              "         ph    Hardness        Solids  Chloramines     Sulfate  Conductivity  \\\n",
              "0       NaN  204.890455  20791.318981     7.300212  368.516441    564.308654   \n",
              "1  3.716080  129.422921  18630.057858     6.635246         NaN    592.885359   \n",
              "2  8.099124  224.236259  19909.541732     9.275884         NaN    418.606213   \n",
              "3  8.316766  214.373394  22018.417441     8.059332  356.886136    363.266516   \n",
              "4  9.092223  181.101509  17978.986339     6.546600  310.135738    398.410813   \n",
              "\n",
              "   Organic_carbon  Trihalomethanes  Turbidity  Potability  \n",
              "0       10.379783        86.990970   2.963135           0  \n",
              "1       15.180013        56.329076   4.500656           0  \n",
              "2       16.868637        66.420093   3.055934           0  \n",
              "3       18.436524       100.341674   4.628771           0  \n",
              "4       11.558279        31.997993   4.075075           0  "
            ]
          },
          "execution_count": 130,
          "metadata": {},
          "output_type": "execute_result"
        }
      ],
      "source": [
        "water = pd.read_csv('water_porability.csv')\n",
        "water.head()"
      ]
    },
    {
      "cell_type": "markdown",
      "metadata": {
        "id": "Uonnup3AhgZc"
      },
      "source": [
        "#1. Exploratory Data Analysis\n",
        "## Objective\n",
        "\n",
        "*   Understanding the data\n",
        "*   Develop a naive model\n",
        "\n",
        "## Checklist\n",
        "### Data structure\n",
        "\n",
        "*   target variable : potability\n",
        "*   dimension : 3276 X 10\n",
        "*   data types: 9 float, 1 integer (target; yes/no)\n",
        "*   missing data: the variables contains NaN values\n",
        "Trihalomethanes    4.945%\n",
        "ph                 14.98%\n",
        "Sulfate            23.84%\n",
        "\n",
        "### Deep analysis\n",
        "\n",
        "*    Target visualization\n",
        "      *   non-potable 60.989%  (1998)\n",
        "      *   potable     39.011%  \n",
        "      (1278)\n",
        "\n",
        "* Variables discription\n",
        "\n",
        "1. pH value:\n",
        "\n",
        "represents the indicator of acidic or alkaline condition of water status. WHO has recommended maximum permissible limit of pH from 6.5 to 8.5. The current investigation ranges were 6.52–6.83 which are in the range of WHO standards.\n",
        "\n",
        "2. Hardness:\n",
        "\n",
        "Hardness is mainly caused by calcium and magnesium salts.\n",
        "\n",
        "3. Solids (Total dissolved solids - TDS):\n",
        "\n",
        "Water has the ability to dissolve a wide range of inorganic and some organic minerals or salts such as potassium, calcium, sodium, bicarbonates, chlorides, magnesium, sulfates etc.\n",
        "\n",
        "4. Chloramines:\n",
        "\n",
        "Chlorine and chloramine are the major disinfectants used in public water systems.\n",
        "\n",
        "5. Sulfate:\n",
        "\n",
        "Sulfates are naturally occurring substances that are found in minerals, soil, and rocks.\n",
        "\n",
        "6. Conductivity:\n",
        "\n",
        "Measures the conductivity of electric current.\n",
        "\n",
        "7. Organic_carbon:\n",
        "\n",
        "Measure of the total amount of carbon in organic compounds in pure water.\n",
        "\n",
        "8. Trihalomethanes:\n",
        "\n",
        "THMs are chemicals which may be found in water treated with chlorine.\n",
        "\n",
        "9. Turbidity:\n",
        "\n",
        "Measure of light emitting properties of water and the test is used to indicate the quality of waste discharge with respect to colloidal matter.\n",
        "\n",
        "10. Potability:\n",
        "\n",
        "Indicates if water is safe for human consumption where 1 means Potable and 0 means Not potable.\n",
        "\n",
        "### Distribution analysis\n",
        "\n",
        "- The distribution of the variables, (except solids variable; asymetric) seems symetric and follow the normal distribution.\n",
        "\n",
        "- The varaibles quantified with diffrent metrics, a step of normalization highly recommanded\n",
        "\n",
        "- The respresentations of the densities curves for the variables pH, Chloramines, Hardness, Solids, Sulfat. shows a difference between the two sets of water, potable and non-potable (hypothesis).\n",
        "- The correlation matrix shows that all the correlation coefficient are close to 0, which means there is no correlation between the variables.\n"
      ]
    },
    {
      "cell_type": "code",
      "execution_count": null,
      "metadata": {
        "colab": {
          "background_save": true
        },
        "id": "Ml9uWPksi-xv",
        "outputId": "5fdffe39-d675-46c4-9553-9b485eaa6fcd"
      },
      "outputs": [
        {
          "data": {
            "text/plain": [
              "(3276, 10)"
            ]
          },
          "execution_count": 131,
          "metadata": {},
          "output_type": "execute_result"
        }
      ],
      "source": [
        "water.shape"
      ]
    },
    {
      "cell_type": "code",
      "execution_count": null,
      "metadata": {
        "colab": {
          "background_save": true
        },
        "id": "NzkXoS-6jJm4",
        "outputId": "db2ec937-4643-437f-f5db-a95ad73bbf7a"
      },
      "outputs": [
        {
          "data": {
            "text/plain": [
              "float64    9\n",
              "int64      1\n",
              "dtype: int64"
            ]
          },
          "execution_count": 132,
          "metadata": {},
          "output_type": "execute_result"
        }
      ],
      "source": [
        "water.dtypes.value_counts()"
      ]
    },
    {
      "cell_type": "code",
      "execution_count": null,
      "metadata": {
        "id": "qi0EX3dfeeaw"
      },
      "outputs": [],
      "source": [
        "for col in water.select_dtypes('float'):\n",
        "    plt.figure()\n",
        "    sns.distplot(water[col])"
      ]
    },
    {
      "cell_type": "markdown",
      "metadata": {
        "id": "OrMW1WfzW-dV"
      },
      "source": [
        "## Handling missing data"
      ]
    },
    {
      "cell_type": "code",
      "execution_count": null,
      "metadata": {
        "id": "1rZqz62Jcg9h"
      },
      "outputs": [],
      "source": [
        "(water.isna().sum()/water.shape[0]).sort_values(ascending=True)"
      ]
    },
    {
      "cell_type": "code",
      "execution_count": null,
      "metadata": {
        "id": "amY3UyihdwpS"
      },
      "outputs": [],
      "source": [
        "water.isna().sum()"
      ]
    },
    {
      "cell_type": "code",
      "execution_count": null,
      "metadata": {
        "id": "h4Yqp79FZGPt"
      },
      "outputs": [],
      "source": [
        "plt.figure(figsize=(20,10))\n",
        "sns.heatmap(water.isna(), cbar=False)"
      ]
    },
    {
      "cell_type": "code",
      "execution_count": null,
      "metadata": {
        "id": "8kYdVj3FfEZe"
      },
      "outputs": [],
      "source": [
        "water.isna().sum()/water.shape[0]"
      ]
    },
    {
      "cell_type": "code",
      "execution_count": null,
      "metadata": {
        "id": "M911L2O9fho8"
      },
      "outputs": [],
      "source": [
        "potable_df = water[water['Potability'] == 1]\n",
        "nonepotable_df = water[water['Potability'] == 0]"
      ]
    },
    {
      "cell_type": "code",
      "execution_count": null,
      "metadata": {
        "id": "DBGl0umYgS1f"
      },
      "outputs": [],
      "source": [
        "for col in water.select_dtypes('float'):\n",
        "    plt.figure()\n",
        "    sns.distplot(potable_df[col], label='potable')\n",
        "    sns.distplot(nonepotable_df[col], label='non potable')\n",
        "    plt.legend()"
      ]
    },
    {
      "cell_type": "markdown",
      "metadata": {
        "id": "OBzSlNbslN5D"
      },
      "source": [
        "Target visualization"
      ]
    },
    {
      "cell_type": "code",
      "execution_count": null,
      "metadata": {
        "id": "5jNNepEklMy9"
      },
      "outputs": [],
      "source": [
        "water['Potability'].value_counts() #True to see the %"
      ]
    },
    {
      "cell_type": "markdown",
      "metadata": {
        "id": "JH_e9FozJYI4"
      },
      "source": [
        "\n",
        "\n",
        "## Correlation Matrix"
      ]
    },
    {
      "cell_type": "code",
      "execution_count": null,
      "metadata": {
        "id": "CFLvGzZKJbiS"
      },
      "outputs": [],
      "source": [
        "sns.clustermap(water.select_dtypes('float').corr())"
      ]
    },
    {
      "cell_type": "code",
      "execution_count": null,
      "metadata": {
        "id": "enOrSyuAMB6s"
      },
      "outputs": [],
      "source": [
        "water.select_dtypes('float').corr()"
      ]
    },
    {
      "cell_type": "markdown",
      "metadata": {
        "id": "1AbzLEAaLv1d"
      },
      "source": [
        "#2. Data Preprocessing\n",
        "\n"
      ]
    },
    {
      "cell_type": "code",
      "execution_count": null,
      "metadata": {
        "id": "FuVSUIwgNHRo"
      },
      "outputs": [],
      "source": [
        "water.head()"
      ]
    },
    {
      "cell_type": "code",
      "execution_count": null,
      "metadata": {
        "id": "VVKVjx9gNgdi"
      },
      "outputs": [],
      "source": [
        "from sklearn.model_selection import train_test_split"
      ]
    },
    {
      "cell_type": "code",
      "execution_count": null,
      "metadata": {
        "id": "dhtgNzbONxiX"
      },
      "outputs": [],
      "source": [
        "trainset, testset = train_test_split(water, test_size=0.2, random_state=0)"
      ]
    },
    {
      "cell_type": "code",
      "execution_count": null,
      "metadata": {
        "id": "YCjqP5l-N_Fd"
      },
      "outputs": [],
      "source": [
        "trainset['Potability'].value_counts()"
      ]
    },
    {
      "cell_type": "code",
      "execution_count": null,
      "metadata": {
        "id": "2qLldYLQOHbX"
      },
      "outputs": [],
      "source": [
        "testset['Potability'].value_counts()"
      ]
    },
    {
      "cell_type": "code",
      "execution_count": null,
      "metadata": {
        "id": "2Z6VNNvO8Fmd"
      },
      "outputs": [],
      "source": [
        "testset.shape, trainset.shape"
      ]
    },
    {
      "cell_type": "code",
      "execution_count": null,
      "metadata": {
        "id": "HQGgHGBSOyRL"
      },
      "outputs": [],
      "source": [
        "#impute nan values\n",
        "trainset.mean()"
      ]
    },
    {
      "cell_type": "code",
      "execution_count": null,
      "metadata": {
        "id": "4U_LIENFPo5v"
      },
      "outputs": [],
      "source": [
        "def preprocessor(df):\n",
        "    df = df.fillna(df.mean()) #impute nan values with means\n",
        "    X = df.drop('Potability', axis=1).reset_index(drop=True)\n",
        "    y = df['Potability'].reset_index(drop=True)\n",
        "    print(y.value_counts())\n",
        "    return X, y"
      ]
    },
    {
      "cell_type": "code",
      "execution_count": null,
      "metadata": {
        "id": "Weew6Kt2QHaa"
      },
      "outputs": [],
      "source": [
        "X_train, Y_train = preprocessor(trainset)"
      ]
    },
    {
      "cell_type": "code",
      "execution_count": null,
      "metadata": {
        "id": "Z6XAhX0g-iYb"
      },
      "outputs": [],
      "source": [
        "X_test, Y_test = preprocessor(testset)"
      ]
    },
    {
      "cell_type": "markdown",
      "metadata": {
        "id": "HdnFnxXOAZBT"
      },
      "source": [
        "#3. Build model"
      ]
    },
    {
      "cell_type": "code",
      "execution_count": null,
      "metadata": {
        "id": "afQDYaBLAYjh"
      },
      "outputs": [],
      "source": [
        "from sklearn.naive_bayes import GaussianNB\n",
        "from sklearn.metrics import classification_report\n",
        "\n",
        "nb_model = GaussianNB().fit(X_train, Y_train)\n",
        "y_pred = nb_model.predict(X_test)\n",
        "print(classification_report(y_pred, Y_test))"
      ]
    },
    {
      "cell_type": "code",
      "execution_count": null,
      "metadata": {
        "id": "Ayas-fJMDHOE"
      },
      "outputs": [],
      "source": [
        "from sklearn import tree\n",
        "rf_model = tree.DecisionTreeClassifier()\n",
        "rf_model.fit(X_train, Y_train)\n",
        "y_pred = rf_model.predict(X_test)\n",
        "\n",
        "print(classification_report(y_pred, Y_test))"
      ]
    },
    {
      "cell_type": "code",
      "execution_count": null,
      "metadata": {
        "id": "ST0FWQkUHueE"
      },
      "outputs": [],
      "source": [
        "from sklearn.neighbors import KNeighborsClassifier\n",
        "knn = KNeighborsClassifier(n_neighbors=3)\n",
        "knn.fit(X_train, Y_train)\n",
        "y_pred = knn.predict(X_test)\n",
        "\n",
        "print(classification_report(y_pred, Y_test))"
      ]
    },
    {
      "cell_type": "code",
      "execution_count": null,
      "metadata": {
        "id": "hnstKwsqIYTW"
      },
      "outputs": [],
      "source": [
        "from sklearn.linear_model import LogisticRegression\n",
        "reg = LogisticRegression().fit(X_train,Y_train)\n",
        "y_pred = reg.predict(X_test)\n",
        "\n",
        "print(classification_report(y_pred, Y_test))"
      ]
    },
    {
      "cell_type": "code",
      "execution_count": null,
      "metadata": {
        "id": "LabVRjjcKybq"
      },
      "outputs": [],
      "source": [
        "from sklearn.ensemble import RandomForestClassifier\n",
        "rf = RandomForestClassifier().fit(X_train,Y_train)\n",
        "y_pred = rf.predict(X_test)\n",
        "\n",
        "print(classification_report(y_pred, Y_test))"
      ]
    },
    {
      "cell_type": "markdown",
      "metadata": {
        "id": "OlNM3odxLEun"
      },
      "source": []
    },
    {
      "cell_type": "code",
      "execution_count": null,
      "metadata": {
        "id": "vMOPVAdfJXR6"
      },
      "outputs": [],
      "source": [
        "from sklearn.model_selection import GridSearchCV\n",
        "params_nb = {'var_smoothing': np.logspace(0,-9, num=100)\n",
        "}\n",
        "params_rf = {\n",
        "    'n_estimators': [200, 500],\n",
        "    'max_features': ['sqrt', 'log2', None],\n",
        "    'max_depth' : [4,5,6,7,8],\n",
        "    'max_leaf_nodes': [3, 6, 9]\n",
        "}\n",
        "params_lr = {\n",
        "    'penalty' : ['l1', 'l2'],\n",
        "    \"C\": [0.001, 0.01, 0.1, 1]\n",
        "}\n",
        "params_knn = {\n",
        "    'n_neighbors' : list(range(1,20,2)),\n",
        "    'weights' : ['uniform', 'distance'],\n",
        "}\n",
        "params_dt = {\n",
        "    'max_depth': list(range(3,15)),\n",
        "    'criterion': ['gini', 'entropy', 'log_loss']\n",
        "}"
      ]
    },
    {
      "cell_type": "code",
      "execution_count": null,
      "metadata": {
        "colab": {
          "background_save": true
        },
        "id": "i-nI-RbLKp6Z",
        "outputId": "7f6775fc-8136-4e39-ed61-c39cd4beb9b2"
      },
      "outputs": [
        {
          "name": "stdout",
          "output_type": "stream",
          "text": [
            "RandomForestClassifier(max_depth=8, max_features=None, max_leaf_nodes=9,\n",
            "                       n_estimators=200)\n"
          ]
        }
      ],
      "source": [
        "from sklearn.model_selection import GridSearchCV\n",
        "#RandomizedSearchCV\n",
        "grid_search = GridSearchCV(RandomForestClassifier(),param_grid=params_rf, scoring=\"accuracy\")\n",
        "grid_search.fit(X_train, Y_train)\n",
        "print(grid_search.best_estimator_)"
      ]
    },
    {
      "cell_type": "code",
      "execution_count": null,
      "metadata": {
        "id": "TiMvLR8lJfKM"
      },
      "outputs": [],
      "source": [
        "grid_search = GridSearchCV(\n",
        "    LogisticRegression(random_state=123,\n",
        "    class_weight=\"balanced\",\n",
        "    solver=\"liblinear\"), param_grid=params_lr, scoring=\"accuracy\")\n",
        "grid_search.fit(X_train, Y_train)\n",
        "print(grid_search.best_estimator_)"
      ]
    },
    {
      "cell_type": "code",
      "execution_count": null,
      "metadata": {
        "id": "eL2T42bOKQnY"
      },
      "outputs": [],
      "source": [
        "reg = LogisticRegression(C=0.01, class_weight='balanced', penalty='l1',\n",
        "                   random_state=123, solver='liblinear').fit(X_train,Y_train)\n",
        "y_pred = reg.predict(X_test)\n",
        "\n",
        "print(classification_report(y_pred, Y_test))"
      ]
    }
  ],
  "metadata": {
    "colab": {
      "provenance": []
    },
    "kernelspec": {
      "display_name": "Python 3",
      "name": "python3"
    },
    "language_info": {
      "name": "python"
    }
  },
  "nbformat": 4,
  "nbformat_minor": 0
}